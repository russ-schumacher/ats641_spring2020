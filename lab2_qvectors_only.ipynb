{
 "cells": [
  {
   "cell_type": "code",
   "execution_count": null,
   "metadata": {},
   "outputs": [],
   "source": [
    "## and now q-vectors\n",
    "## first, smooth everything pretty heavily:\n",
    "temp_850 = ndimage.gaussian_filter(temp_850, sigma=10, order=0) * units('kelvin')\n",
    "uwnd_850 = ndimage.gaussian_filter(uwnd_850, sigma=10, order=0) * units('m/s')\n",
    "vwnd_850 = ndimage.gaussian_filter(vwnd_850, sigma=10, order=0) * units('m/s')"
   ]
  },
  {
   "cell_type": "code",
   "execution_count": null,
   "metadata": {},
   "outputs": [],
   "source": [
    "# Compute the Q-vector components\n",
    "uqvect, vqvect = mpcalc.q_vector(uwnd_850, vwnd_850, temp_850, 850*units.hPa, dx, dy)\n",
    "\n",
    "# Compute the divergence of the Q-vectors calculated above\n",
    "q_div = -2*mpcalc.divergence(uqvect, vqvect, dx, dy, dim_order='yx')\n"
   ]
  },
  {
   "cell_type": "code",
   "execution_count": null,
   "metadata": {},
   "outputs": [],
   "source": [
    "q_div = ndimage.gaussian_filter(q_div, sigma=10, order=0) * units('meter/(kilogram second)')\n",
    "q_div.units"
   ]
  },
  {
   "cell_type": "code",
   "execution_count": null,
   "metadata": {},
   "outputs": [],
   "source": [
    "#Map Creation\n",
    "\n",
    "# Set up Coordinate System for Plot and Transforms\n",
    "dproj = ds.variables['LambertConformal_Projection']\n",
    "globe = ccrs.Globe(ellipse='sphere', semimajor_axis=dproj.earth_radius,\n",
    "                   semiminor_axis=dproj.earth_radius)\n",
    "datacrs = ccrs.LambertConformal(central_latitude=dproj.latitude_of_projection_origin,\n",
    "                                central_longitude=dproj.longitude_of_central_meridian,\n",
    "                                standard_parallels=[dproj.standard_parallel],\n",
    "                                globe=globe)\n",
    "plotcrs = ccrs.LambertConformal(central_latitude=45., central_longitude=-100.,\n",
    "                                standard_parallels=[30, 60])\n",
    "\n",
    "fig = plt.figure(1, figsize=(14., 12))\n",
    "gs = gridspec.GridSpec(2, 1, height_ratios=[1, .02], bottom=.07, top=.99,\n",
    "                       hspace=0.01, wspace=0.01)\n",
    "ax = plt.subplot(gs[0], projection=plotcrs)\n",
    "\n",
    "# Plot Titles\n",
    "plt.title('850-hPa Geo. Heights (m), Temp (C),'\n",
    "          ' Q-Vectors (m$^2$ kg$^{-1}$ s$^{-1}$) and Q-Vec Div. (*10$^{18}$ m s$^{-1}$ kg$^{-1}$)', loc='left')\n",
    "plt.title('VALID: {}'.format(vtime[0]), loc='right')\n",
    "\n",
    "# Plot Background\n",
    "ax.set_extent([235., 290., 20., 58.], ccrs.PlateCarree())\n",
    "ax.coastlines('50m', edgecolor='black', linewidth=0.75)\n",
    "ax.add_feature(cfeature.STATES, linewidth=.5)\n",
    "\n",
    "# Plot Height Contours\n",
    "clev850 = np.arange(900, 3000, 30)\n",
    "cs = ax.contour(lon, lat, hght_850.m, clev850, colors='black', linewidths=1.0,\n",
    "                linestyles='solid', transform=ccrs.PlateCarree())\n",
    "plt.clabel(cs, fontsize=10, inline=1, inline_spacing=10, fmt='%i',\n",
    "           rightside_up=True, use_clabeltext=True)\n",
    "\n",
    "# Plot temperature Contours\n",
    "clevtemp850 = np.arange(-30, 20, 2)\n",
    "cs2 = ax.contour(lon, lat, temp_850.to(units('degC')), clevtemp850, colors='grey',\n",
    "                 linewidths=1.25, linestyles='dashed', transform=ccrs.PlateCarree())\n",
    "plt.clabel(cs2, fontsize=10, inline=1, inline_spacing=10, fmt='%i',\n",
    "           rightside_up=True, use_clabeltext=True)\n",
    "\n",
    "# Plot 850-hPa Q-Vector Divergence and scale\n",
    "clevs_qdiv = list(range(-30, -4, 5))+list(range(5, 31, 5))\n",
    "cf = ax.contourf(lon, lat, q_div*1e18, clevs_qdiv, extend='both',\n",
    "                 cmap='bwr', transform=ccrs.PlateCarree())\n",
    "cb = plt.colorbar(cf, orientation='horizontal', pad=0, aspect=50, extendrect=True,\n",
    "                  ticks=clevs_qdiv)\n",
    "cb.set_label('Q-Vector Div. (*10$^{18}$ m s$^{-1}$ kg$^{-1}$)')\n",
    "\n",
    "# Plot 850-hPa Q-vectors, scale to get nice sized arrows. Skip every 20th point when plotting.\n",
    "ax.quiver(lon[::20,::20],lat[::20,::20],uqvect[::20,::20].m,vqvect[::20,::20].m,\n",
    "          pivot='mid', color='black',\n",
    "          scale=1e-11, scale_units='inches',\n",
    "          transform=ccrs.PlateCarree())\n"
   ]
  }
 ],
 "metadata": {
  "kernelspec": {
   "display_name": "Python 3",
   "language": "python",
   "name": "python3"
  },
  "language_info": {
   "codemirror_mode": {
    "name": "ipython",
    "version": 3
   },
   "file_extension": ".py",
   "mimetype": "text/x-python",
   "name": "python",
   "nbconvert_exporter": "python",
   "pygments_lexer": "ipython3",
   "version": "3.7.6"
  }
 },
 "nbformat": 4,
 "nbformat_minor": 4
}
